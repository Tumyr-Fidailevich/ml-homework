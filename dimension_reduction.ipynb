{
 "cells": [
  {
   "cell_type": "markdown",
   "id": "0ac19add",
   "metadata": {},
   "source": [
    "#  Импорт библиотек"
   ]
  },
  {
   "cell_type": "code",
   "execution_count": 1,
   "id": "0f86465b",
   "metadata": {},
   "outputs": [],
   "source": [
    "import numpy as np\n",
    "\n",
    "import pandas as pd\n",
    "\n",
    "import time\n",
    "\n",
    "# mpl\n",
    "import matplotlib.pyplot as plt\n",
    "from mpl_toolkits.mplot3d import Axes3D\n",
    "import seaborn as sns; sns.set(style='white')\n",
    "%matplotlib inline\n",
    "\n",
    "# для генерации нормального распределения\n",
    "from numpy.linalg import norm\n",
    "\n",
    "# datasets\n",
    "from sklearn import datasets\n",
    "from sklearn.model_selection import train_test_split\n",
    "\n",
    "# models\n",
    "from sklearn.svm import SVC\n",
    "from sklearn.linear_model import LogisticRegression\n",
    "from sklearn.tree import DecisionTreeClassifier\n",
    "# metrics\n",
    "from sklearn.metrics import accuracy_score, roc_auc_score\n",
    "\n",
    "# \n",
    "from sklearn.decomposition import PCA\n",
    "from sklearn.manifold import TSNE\n",
    "\n",
    "random_state = 42"
   ]
  },
  {
   "cell_type": "markdown",
   "id": "d0c2b4ff",
   "metadata": {},
   "source": [
    "## Загружаем датасет"
   ]
  },
  {
   "cell_type": "code",
   "execution_count": 2,
   "id": "e52775d5",
   "metadata": {},
   "outputs": [],
   "source": [
    "df = datasets.load_digits()\n",
    "X = df.data\n",
    "y = df.target"
   ]
  },
  {
   "cell_type": "markdown",
   "id": "25b74835",
   "metadata": {},
   "source": [
    "## Определим модели и преобразователи"
   ]
  },
  {
   "cell_type": "code",
   "execution_count": 3,
   "id": "12298c14",
   "metadata": {},
   "outputs": [],
   "source": [
    "models = {\n",
    "    \"SVC\" : SVC(random_state=random_state),\n",
    "    \"LogisticRegression\" : LogisticRegression(max_iter=10000, random_state=random_state),\n",
    "    \"DecisionTreeClassifier\" : DecisionTreeClassifier(random_state=random_state)\n",
    "}\n",
    "\n",
    "transformers = {\n",
    "    \"PCA\" : PCA(n_components=0.90, random_state=random_state),\n",
    "    \"TSNE\" : TSNE(n_components=2, random_state=random_state)\n",
    "}"
   ]
  },
  {
   "cell_type": "markdown",
   "id": "fe23f129",
   "metadata": {},
   "source": [
    "## Получим предикт на неообработанных данных"
   ]
  },
  {
   "cell_type": "code",
   "execution_count": 4,
   "id": "32d4d396",
   "metadata": {},
   "outputs": [],
   "source": [
    "X_train, X_test, y_train, y_test = train_test_split(X, y, test_size=0.25, random_state=random_state, stratify=y)\n",
    "clear_predicts = {}\n",
    "for model_name, model in models.items():\n",
    "    model.fit(X_train, y_train)\n",
    "    clear_predicts[model_name] = model.predict(X_test)\n",
    "    "
   ]
  },
  {
   "cell_type": "markdown",
   "id": "07cf2175",
   "metadata": {},
   "source": [
    "## Применим алгоритмы уменьшения размерности"
   ]
  },
  {
   "cell_type": "code",
   "execution_count": 5,
   "id": "ed3ea73f",
   "metadata": {},
   "outputs": [],
   "source": [
    "preprocessing_time = {\n",
    "    \"PCA\" : {}\n",
    "}\n",
    "transformers_predicts = {\n",
    "    \"PCA\" : {},\n",
    "    \"TSNE\" : {}\n",
    "}"
   ]
  },
  {
   "cell_type": "markdown",
   "id": "ffd3256a",
   "metadata": {},
   "source": [
    "## PCA"
   ]
  },
  {
   "cell_type": "code",
   "execution_count": 6,
   "id": "f85e5b85",
   "metadata": {},
   "outputs": [],
   "source": [
    "X_train, X_test, y_train, y_test = train_test_split(X, y, test_size=0.25, random_state=random_state, stratify=y)\n",
    "\n",
    "start_time = time.time()\n",
    "transformers[\"PCA\"].fit(X_train)\n",
    "X_train = transformers[\"PCA\"].transform(X_train)\n",
    "preprocessing_time[\"PCA\"][\"train\"] = time.time() - start_time\n",
    "\n",
    "start_time = time.time()\n",
    "X_test = transformers[\"PCA\"].transform(X_test)\n",
    "preprocessing_time[\"PCA\"][\"test\"] = time.time() - start_time\n",
    "\n",
    "n_components = transformers[\"PCA\"].n_components_\n",
    "\n",
    "for model_name, model in models.items():\n",
    "    model.fit(X_train, y_train)\n",
    "    transformers_predicts[\"PCA\"][model_name] = model.predict(X_test)"
   ]
  },
  {
   "cell_type": "markdown",
   "id": "96d0f1b1",
   "metadata": {},
   "source": [
    "## TSNE"
   ]
  },
  {
   "cell_type": "code",
   "execution_count": 7,
   "id": "318f522c",
   "metadata": {},
   "outputs": [],
   "source": [
    "start_time = time.time()\n",
    "X = transformers[\"TSNE\"].fit_transform(X)\n",
    "preprocessing_time[\"TSNE\"] = time.time() - start_time\n",
    "\n",
    "X_train, X_test, y_train, y_test = train_test_split(X, y, test_size=0.25, random_state=random_state, stratify=y)\n",
    "\n",
    "for model_name, model in models.items():\n",
    "    model.fit(X_train, y_train)\n",
    "    transformers_predicts[\"TSNE\"][model_name] = model.predict(X_test)"
   ]
  },
  {
   "cell_type": "markdown",
   "id": "62b169e3",
   "metadata": {},
   "source": [
    "## Отобразим метрики для результатов без снижения размерности"
   ]
  },
  {
   "cell_type": "code",
   "execution_count": 8,
   "id": "3e8e2671",
   "metadata": {},
   "outputs": [
    {
     "name": "stdout",
     "output_type": "stream",
     "text": [
      "Model SVC score:  0.9911111111111112 \n",
      "\n",
      "Model LogisticRegression score:  0.9533333333333334 \n",
      "\n",
      "Model DecisionTreeClassifier score:  0.8244444444444444 \n",
      "\n"
     ]
    }
   ],
   "source": [
    "for model_name, predict in clear_predicts.items():\n",
    "    print(f\"Model {model_name} score: \", accuracy_score(y_true=y_test, y_pred=predict), \"\\n\")"
   ]
  },
  {
   "cell_type": "markdown",
   "id": "252d764b",
   "metadata": {},
   "source": [
    "## Отобразим метрики для результатов со снижением размерности"
   ]
  },
  {
   "cell_type": "code",
   "execution_count": 9,
   "id": "9955599e",
   "metadata": {},
   "outputs": [
    {
     "name": "stdout",
     "output_type": "stream",
     "text": [
      "Transformer PCA results:\n",
      "Model SVC score:  0.9866666666666667 \n",
      "\n",
      "Model LogisticRegression score:  0.9266666666666666 \n",
      "\n",
      "Model DecisionTreeClassifier score:  0.86 \n",
      "\n",
      "-----------------------------------------\n",
      "Transformer TSNE results:\n",
      "Model SVC score:  0.9555555555555556 \n",
      "\n",
      "Model LogisticRegression score:  0.9066666666666666 \n",
      "\n",
      "Model DecisionTreeClassifier score:  0.9666666666666667 \n",
      "\n",
      "-----------------------------------------\n"
     ]
    }
   ],
   "source": [
    "for transformer_name, predicts in transformers_predicts.items():\n",
    "    print(f\"Transformer {transformer_name} results:\")\n",
    "    for model_name, predict in predicts.items():\n",
    "        print(f\"Model {model_name} score: \", accuracy_score(y_true=y_test, y_pred=predict), \"\\n\")\n",
    "    print(\"-----------------------------------------\")"
   ]
  },
  {
   "cell_type": "markdown",
   "id": "dbd038e7",
   "metadata": {},
   "source": [
    "## Сравнение времени работы алгоритмов TSNE и PCA"
   ]
  },
  {
   "cell_type": "code",
   "execution_count": 13,
   "id": "867fe1a0",
   "metadata": {},
   "outputs": [
    {
     "name": "stdout",
     "output_type": "stream",
     "text": [
      "PCA preprocessing time:\n",
      "Train: 0.004702091217041016 sec\n",
      "Test: 0.00023412704467773438 sec\n",
      "Summary: 0.00493621826171875 sec\n"
     ]
    }
   ],
   "source": [
    "train_time = preprocessing_time[\"PCA\"][\"train\"]\n",
    "test_time = preprocessing_time[\"PCA\"][\"test\"]\n",
    "print(\"PCA preprocessing time:\")\n",
    "print(f\"Train: {train_time} sec\")\n",
    "print(f\"Test: {test_time} sec\")\n",
    "print(f\"Summary: {train_time + test_time} sec\")"
   ]
  },
  {
   "cell_type": "code",
   "execution_count": 14,
   "id": "d89186b3",
   "metadata": {},
   "outputs": [
    {
     "name": "stdout",
     "output_type": "stream",
     "text": [
      "TSNE preprocessing time:\n",
      "Train: 2.5306289196014404 sec\n"
     ]
    }
   ],
   "source": [
    "train_time = preprocessing_time[\"TSNE\"]\n",
    "print(\"TSNE preprocessing time:\")\n",
    "print(f\"Train: {train_time} sec\")"
   ]
  },
  {
   "cell_type": "code",
   "execution_count": 15,
   "id": "81e423de",
   "metadata": {},
   "outputs": [
    {
     "name": "stdout",
     "output_type": "stream",
     "text": [
      "To retain 90 percent of the dispersion, the pca algorithm needs 21 components\n"
     ]
    }
   ],
   "source": [
    "print(f\"To retain 90 percent of the dispersion, the pca algorithm needs {n_components} components\")"
   ]
  },
  {
   "cell_type": "markdown",
   "id": "1121815b",
   "metadata": {},
   "source": [
    "## Результаты:\n",
    "### Для сохранения 90 процентов дисперсии в алгоритме PCA необходима 21 компонента\n",
    "### Время работы препроцессинга:\n",
    "- PCA : 0.00493621826171875 sec\n",
    "- TSNE : 2.5306289196014404 sec\n",
    "### Изменение результатов \n",
    "- Уменьшение размерности дало прирост в точности для Дерева решений, в лучшем случае при использовании TSNE\n",
    "- Уменьшение размерности негативно сказалось на точности Логистической регрессии и SVM"
   ]
  }
 ],
 "metadata": {
  "kernelspec": {
   "display_name": "Python 3 (ipykernel)",
   "language": "python",
   "name": "python3"
  },
  "language_info": {
   "codemirror_mode": {
    "name": "ipython",
    "version": 3
   },
   "file_extension": ".py",
   "mimetype": "text/x-python",
   "name": "python",
   "nbconvert_exporter": "python",
   "pygments_lexer": "ipython3",
   "version": "3.11.5"
  }
 },
 "nbformat": 4,
 "nbformat_minor": 5
}
