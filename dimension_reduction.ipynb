{
 "cells": [
  {
   "cell_type": "markdown",
   "id": "0ac19add",
   "metadata": {},
   "source": [
    "#  Импорт библиотек"
   ]
  },
  {
   "cell_type": "code",
   "execution_count": 12,
   "id": "0f86465b",
   "metadata": {},
   "outputs": [],
   "source": [
    "import numpy as np\n",
    "\n",
    "import pandas as pd\n",
    "\n",
    "# mpl\n",
    "import matplotlib.pyplot as plt\n",
    "from mpl_toolkits.mplot3d import Axes3D\n",
    "import seaborn as sns; sns.set(style='white')\n",
    "%matplotlib inline\n",
    "\n",
    "# для генерации нормального распределения\n",
    "from numpy.linalg import norm\n",
    "\n",
    "# datasets\n",
    "from sklearn import datasets\n",
    "from sklearn.model_selection import train_test_split\n",
    "\n",
    "# models\n",
    "from sklearn.svm import SVC\n",
    "from sklearn.linear_model import LogisticRegression\n",
    "from sklearn.tree import DecisionTreeClassifier\n",
    "# metrics\n",
    "from sklearn.metrics import accuracy_score, roc_auc_score\n",
    "\n",
    "# \n",
    "from sklearn.decomposition import PCA\n",
    "from sklearn.manifold import TSNE\n",
    "\n",
    "random_state = 42"
   ]
  },
  {
   "cell_type": "code",
   "execution_count": 13,
   "id": "e52775d5",
   "metadata": {},
   "outputs": [],
   "source": [
    "df = datasets.load_digits()\n",
    "X = df.data\n",
    "y = df.target"
   ]
  },
  {
   "cell_type": "code",
   "execution_count": 16,
   "id": "12298c14",
   "metadata": {},
   "outputs": [],
   "source": [
    "models = {\n",
    "    \"SVC\" : SVC(random_state=random_state),\n",
    "    \"LogisticRegression\" : LogisticRegression(max_iter=1000, random_state=random_state),\n",
    "    \"DecisionTreeClassifier\" : DecisionTreeClassifier(random_state=random_state)\n",
    "}\n",
    "\n",
    "converters = {\n",
    "    \"PCA\" : PCA(random_state=random_state),\n",
    "    \"TSNE\" : TSNE(n_components=2, random_state=random_state)\n",
    "}"
   ]
  },
  {
   "cell_type": "code",
   "execution_count": 17,
   "id": "32d4d396",
   "metadata": {},
   "outputs": [],
   "source": [
    "X_train, X_test, y_train, y_test = train_test_split(X, y, test_size=0.25, random_state=random_state, stratify=y)\n",
    "clear_predicts = {}\n",
    "for model_name, model in models.items():\n",
    "    model.fit(X_train, y_train)\n",
    "    clear_predicts[model_name] = model.predict(X_test)\n",
    "    "
   ]
  },
  {
   "cell_type": "code",
   "execution_count": null,
   "id": "ed3ea73f",
   "metadata": {},
   "outputs": [],
   "source": [
    "preprocessing_times = {}\n",
    "predicts = {}\n",
    "models_new = {}\n",
    "for name, transformer in converters.items():\n",
    "    if name == 'PCA':\n",
    "        X_train, X_test, y_train, y_test = train_test_split(X, y, test_size=0.25, random_state=random_state, stratify=y)\n",
    "\n",
    "        start = time.time()\n",
    "        transformer.fit(X_train)\n",
    "        X_train_ = transformer.transform(X_train)\n",
    "        times[name + '_train'] = time.time() - start\n",
    "\n",
    "        start = time.time()\n",
    "        X_test_ = transformer.transform(X_test)\n",
    "        times[name + '_test'] = time.time() - start\n",
    "    elif name == 'TSNE':\n",
    "\n",
    "        start = time.time()\n",
    "        X_ = transformer.fit_transform(X)\n",
    "        times[name] = time.time() - start\n",
    "\n",
    "        X_train_, X_test_, y_train, y_test = train_test_split(X_, data['y'], test_size=0.25, random_state=42, stratify=data['y'])\n",
    "\n",
    "\n",
    "    eval_data_ = {\n",
    "        'X_train': X_train_,\n",
    "        'X_test': X_test_,\n",
    "        'y_train': y_train,\n",
    "        'y_test': y_test\n",
    "    }\n",
    "\n",
    "    models_, predict = fit_predict(models, eval_data_)\n",
    "    models_new[name] = models_\n",
    "    predicts[name] = predict"
   ]
  }
 ],
 "metadata": {
  "kernelspec": {
   "display_name": "Python 3 (ipykernel)",
   "language": "python",
   "name": "python3"
  },
  "language_info": {
   "codemirror_mode": {
    "name": "ipython",
    "version": 3
   },
   "file_extension": ".py",
   "mimetype": "text/x-python",
   "name": "python",
   "nbconvert_exporter": "python",
   "pygments_lexer": "ipython3",
   "version": "3.11.5"
  }
 },
 "nbformat": 4,
 "nbformat_minor": 5
}
